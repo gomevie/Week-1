{
 "cells": [
  {
   "cell_type": "code",
   "execution_count": 31,
   "id": "0a2b24b4",
   "metadata": {},
   "outputs": [],
   "source": [
    "import numpy as np\n",
    "import pandas as pd\n",
    "import matplotlib.pyplot as plt"
   ]
  },
  {
   "cell_type": "code",
   "execution_count": 32,
   "id": "b8cc9955",
   "metadata": {},
   "outputs": [],
   "source": [
    "def normalize(features):\n",
    "    features_normalized = np.copy(features).astype('float')\n",
    "    \n",
    "    # 计算均值\n",
    "    features_mean = np.mean(features,0)\n",
    "    \n",
    "    # 计算标准差\n",
    "    features_deviation = np.std(features,0)\n",
    "    \n",
    "    # 标准化\n",
    "    if features.shape[0] > 1:\n",
    "        features_normalized -= features_mean\n",
    "        \n",
    "    features_deviation[features_deviation == 0] = 1\n",
    "    features_normalized /= features_deviation\n",
    "    \n",
    "    return features_normalized,features_mean,features_deviation"
   ]
  },
  {
   "cell_type": "code",
   "execution_count": 33,
   "id": "a33d12ab",
   "metadata": {},
   "outputs": [],
   "source": [
    "def prepare_for_training(data, normalize_data=True):\n",
    "    # 计算样本总数\n",
    "    num_data = data.shape[0]\n",
    "    \n",
    "    data_processed = np.copy(data)\n",
    "    \n",
    "    # 预处理\n",
    "    features_mean = 0\n",
    "    features_deviation = 0\n",
    "    data_normalize = data_processed\n",
    "    \n",
    "    # 标准化操作\n",
    "    if normalize_data:\n",
    "        data_normalize,features_mean,features_deviation = normalize(data_normalize)\n",
    "    data_processed = data_normalize\n",
    "    \n",
    "    # 添加一列元素为一\n",
    "    data_processed = np.hstack((np.ones((num_data, 1)), data_processed))\n",
    "    \n",
    "    return data_processed,features_mean,features_deviation"
   ]
  },
  {
   "cell_type": "code",
   "execution_count": 34,
   "id": "30302702",
   "metadata": {},
   "outputs": [],
   "source": [
    "def predicting(data, theta):\n",
    "    predictions = np.dot(data, theta)\n",
    "    return predictions"
   ]
  },
  {
   "cell_type": "code",
   "execution_count": 35,
   "id": "b878eb70",
   "metadata": {},
   "outputs": [],
   "source": [
    "# 参数更新\n",
    "def gradient_step(data, labels, alpha, theta):\n",
    "    # 获取总样本个数\n",
    "    num_data = data.shape[0]\n",
    "    \n",
    "    predictions = predicting(data, theta)\n",
    "    delta = predictions - labels\n",
    "    \n",
    "    theta = theta - alpha*(1/num_data)*(np.dot(delta.T, data)).T\n",
    "    \n",
    "    return theta"
   ]
  },
  {
   "cell_type": "code",
   "execution_count": 36,
   "id": "adc6f65d",
   "metadata": {},
   "outputs": [],
   "source": [
    "# 损失函数\n",
    "def cost_function(data, labels, theta):\n",
    "    num_data = data.shape[0]\n",
    "    delta = predicting(data, theta) - labels\n",
    "    cost = ((1/2)*np.dot(delta,delta.T)) / num_data\n",
    "    \n",
    "    return cost[0][0]"
   ]
  },
  {
   "cell_type": "code",
   "execution_count": 37,
   "id": "a68b57a1",
   "metadata": {},
   "outputs": [],
   "source": [
    "def gradient_descent(data, labels, alpha, theta, Iter):\n",
    "    costs = []\n",
    "    for _ in range(Iter):\n",
    "        theta = gradient_step(data, labels, alpha, theta)\n",
    "        costs.append(cost_function(data, labels, theta))\n",
    "    \n",
    "    return costs, theta"
   ]
  },
  {
   "cell_type": "code",
   "execution_count": 38,
   "id": "8faeae64",
   "metadata": {},
   "outputs": [],
   "source": [
    "def train(data, labels, alpha, Iter=500, normalize_data=True):\n",
    "    \n",
    "    # 预处理\n",
    "    data_processed,features_mean,features_deviation = prepare_for_training(data, normalize_data)\n",
    "    \n",
    "    # 获取总特征个数\n",
    "    num_features = data_processed.shape[1]\n",
    "    \n",
    "    # theta值初始化\n",
    "    theta = np.zeros((num_features,1))\n",
    "    \n",
    "    costs, theta = gradient_descent(data_processed, labels, alpha, theta, Iter)\n",
    "    \n",
    "    return theta, costs"
   ]
  },
  {
   "cell_type": "code",
   "execution_count": 39,
   "id": "004a25e5",
   "metadata": {},
   "outputs": [],
   "source": [
    "def get_cost(data, theta):\n",
    "    data_processed = prepare_for_training(data)[0]\n",
    "    return "
   ]
  },
  {
   "cell_type": "code",
   "execution_count": 40,
   "id": "4ad8f62c",
   "metadata": {},
   "outputs": [],
   "source": [
    "def predict(data, theta):\n",
    "    data_processed = prepare_for_training(data)[0]\n",
    "    predictions = predicting(data_processed, theta)\n",
    "    \n",
    "    return predictions"
   ]
  },
  {
   "cell_type": "code",
   "execution_count": 41,
   "id": "0d49d63a",
   "metadata": {},
   "outputs": [],
   "source": [
    "data = pd.read_csv(\"boston_housing.csv\")"
   ]
  },
  {
   "cell_type": "code",
   "execution_count": 42,
   "id": "ce586cf9",
   "metadata": {},
   "outputs": [
    {
     "data": {
      "text/html": [
       "<div>\n",
       "<style scoped>\n",
       "    .dataframe tbody tr th:only-of-type {\n",
       "        vertical-align: middle;\n",
       "    }\n",
       "\n",
       "    .dataframe tbody tr th {\n",
       "        vertical-align: top;\n",
       "    }\n",
       "\n",
       "    .dataframe thead th {\n",
       "        text-align: right;\n",
       "    }\n",
       "</style>\n",
       "<table border=\"1\" class=\"dataframe\">\n",
       "  <thead>\n",
       "    <tr style=\"text-align: right;\">\n",
       "      <th></th>\n",
       "      <th>CRIM</th>\n",
       "      <th>ZN</th>\n",
       "      <th>INDUS</th>\n",
       "      <th>CHAS</th>\n",
       "      <th>NOX</th>\n",
       "      <th>RM</th>\n",
       "      <th>AGE</th>\n",
       "      <th>DIS</th>\n",
       "      <th>RAD</th>\n",
       "      <th>TAX</th>\n",
       "      <th>PTRATIO</th>\n",
       "      <th>B</th>\n",
       "      <th>LSTAT</th>\n",
       "      <th>target</th>\n",
       "    </tr>\n",
       "  </thead>\n",
       "  <tbody>\n",
       "    <tr>\n",
       "      <th>0</th>\n",
       "      <td>0.00632</td>\n",
       "      <td>18.0</td>\n",
       "      <td>2.31</td>\n",
       "      <td>0.0</td>\n",
       "      <td>0.538</td>\n",
       "      <td>6.575</td>\n",
       "      <td>65.2</td>\n",
       "      <td>4.0900</td>\n",
       "      <td>1.0</td>\n",
       "      <td>296.0</td>\n",
       "      <td>15.3</td>\n",
       "      <td>396.90</td>\n",
       "      <td>4.98</td>\n",
       "      <td>24.0</td>\n",
       "    </tr>\n",
       "    <tr>\n",
       "      <th>1</th>\n",
       "      <td>0.02731</td>\n",
       "      <td>0.0</td>\n",
       "      <td>7.07</td>\n",
       "      <td>0.0</td>\n",
       "      <td>0.469</td>\n",
       "      <td>6.421</td>\n",
       "      <td>78.9</td>\n",
       "      <td>4.9671</td>\n",
       "      <td>2.0</td>\n",
       "      <td>242.0</td>\n",
       "      <td>17.8</td>\n",
       "      <td>396.90</td>\n",
       "      <td>9.14</td>\n",
       "      <td>21.6</td>\n",
       "    </tr>\n",
       "    <tr>\n",
       "      <th>2</th>\n",
       "      <td>0.02729</td>\n",
       "      <td>0.0</td>\n",
       "      <td>7.07</td>\n",
       "      <td>0.0</td>\n",
       "      <td>0.469</td>\n",
       "      <td>7.185</td>\n",
       "      <td>61.1</td>\n",
       "      <td>4.9671</td>\n",
       "      <td>2.0</td>\n",
       "      <td>242.0</td>\n",
       "      <td>17.8</td>\n",
       "      <td>392.83</td>\n",
       "      <td>4.03</td>\n",
       "      <td>34.7</td>\n",
       "    </tr>\n",
       "    <tr>\n",
       "      <th>3</th>\n",
       "      <td>0.03237</td>\n",
       "      <td>0.0</td>\n",
       "      <td>2.18</td>\n",
       "      <td>0.0</td>\n",
       "      <td>0.458</td>\n",
       "      <td>6.998</td>\n",
       "      <td>45.8</td>\n",
       "      <td>6.0622</td>\n",
       "      <td>3.0</td>\n",
       "      <td>222.0</td>\n",
       "      <td>18.7</td>\n",
       "      <td>394.63</td>\n",
       "      <td>2.94</td>\n",
       "      <td>33.4</td>\n",
       "    </tr>\n",
       "    <tr>\n",
       "      <th>4</th>\n",
       "      <td>0.06905</td>\n",
       "      <td>0.0</td>\n",
       "      <td>2.18</td>\n",
       "      <td>0.0</td>\n",
       "      <td>0.458</td>\n",
       "      <td>7.147</td>\n",
       "      <td>54.2</td>\n",
       "      <td>6.0622</td>\n",
       "      <td>3.0</td>\n",
       "      <td>222.0</td>\n",
       "      <td>18.7</td>\n",
       "      <td>396.90</td>\n",
       "      <td>5.33</td>\n",
       "      <td>36.2</td>\n",
       "    </tr>\n",
       "  </tbody>\n",
       "</table>\n",
       "</div>"
      ],
      "text/plain": [
       "      CRIM    ZN  INDUS  CHAS    NOX     RM   AGE     DIS  RAD    TAX  \\\n",
       "0  0.00632  18.0   2.31   0.0  0.538  6.575  65.2  4.0900  1.0  296.0   \n",
       "1  0.02731   0.0   7.07   0.0  0.469  6.421  78.9  4.9671  2.0  242.0   \n",
       "2  0.02729   0.0   7.07   0.0  0.469  7.185  61.1  4.9671  2.0  242.0   \n",
       "3  0.03237   0.0   2.18   0.0  0.458  6.998  45.8  6.0622  3.0  222.0   \n",
       "4  0.06905   0.0   2.18   0.0  0.458  7.147  54.2  6.0622  3.0  222.0   \n",
       "\n",
       "   PTRATIO       B  LSTAT  target  \n",
       "0     15.3  396.90   4.98    24.0  \n",
       "1     17.8  396.90   9.14    21.6  \n",
       "2     17.8  392.83   4.03    34.7  \n",
       "3     18.7  394.63   2.94    33.4  \n",
       "4     18.7  396.90   5.33    36.2  "
      ]
     },
     "execution_count": 42,
     "metadata": {},
     "output_type": "execute_result"
    }
   ],
   "source": [
    "data.head()"
   ]
  },
  {
   "cell_type": "code",
   "execution_count": 43,
   "id": "872c5fd5",
   "metadata": {},
   "outputs": [
    {
     "data": {
      "text/plain": [
       "(      CRIM    ZN  INDUS  CHAS    NOX     RM   AGE     DIS  RAD    TAX  \\\n",
       " 0  0.00632  18.0   2.31   0.0  0.538  6.575  65.2  4.0900  1.0  296.0   \n",
       " 1  0.02731   0.0   7.07   0.0  0.469  6.421  78.9  4.9671  2.0  242.0   \n",
       " 2  0.02729   0.0   7.07   0.0  0.469  7.185  61.1  4.9671  2.0  242.0   \n",
       " 3  0.03237   0.0   2.18   0.0  0.458  6.998  45.8  6.0622  3.0  222.0   \n",
       " 4  0.06905   0.0   2.18   0.0  0.458  7.147  54.2  6.0622  3.0  222.0   \n",
       " \n",
       "    PTRATIO       B  LSTAT  \n",
       " 0     15.3  396.90   4.98  \n",
       " 1     17.8  396.90   9.14  \n",
       " 2     17.8  392.83   4.03  \n",
       " 3     18.7  394.63   2.94  \n",
       " 4     18.7  396.90   5.33  ,\n",
       "    target\n",
       " 0    24.0\n",
       " 1    21.6\n",
       " 2    34.7\n",
       " 3    33.4\n",
       " 4    36.2)"
      ]
     },
     "execution_count": 43,
     "metadata": {},
     "output_type": "execute_result"
    }
   ],
   "source": [
    "X = data.loc[:, data.columns != \"target\"]           # 特征数据\n",
    "y = data.loc[:, data.columns == 'target']           # 结果数据\n",
    "X[:5],y[:5]"
   ]
  },
  {
   "cell_type": "code",
   "execution_count": 44,
   "id": "12f48984",
   "metadata": {},
   "outputs": [],
   "source": [
    "from sklearn.model_selection import train_test_split\n",
    "\n",
    "# 全数据集的切分操作\n",
    "X_train, X_test, y_train, y_test = train_test_split(X,y,test_size = 0.3, random_state = 0)"
   ]
  },
  {
   "cell_type": "code",
   "execution_count": 45,
   "id": "e8edc40a",
   "metadata": {},
   "outputs": [
    {
     "data": {
      "text/plain": [
       "((354, 13), (152, 13), (354, 1), (152, 1))"
      ]
     },
     "execution_count": 45,
     "metadata": {},
     "output_type": "execute_result"
    }
   ],
   "source": [
    "X_train.shape, X_test.shape, y_train.shape, y_test.shape"
   ]
  },
  {
   "cell_type": "code",
   "execution_count": 46,
   "id": "c720f79f",
   "metadata": {},
   "outputs": [],
   "source": [
    "# plt.scatter(x_train,y_train,label='train_data')\n",
    "# plt.scatter(x_test,y_test,label='test_data')\n",
    "# plt.xlabel(input_param_name)\n",
    "# plt.ylabel(output_param_name)\n",
    "# plt.legend()"
   ]
  },
  {
   "cell_type": "code",
   "execution_count": 47,
   "id": "5460936c",
   "metadata": {},
   "outputs": [],
   "source": [
    "Iter = 1000\n",
    "alpha = 0.01"
   ]
  },
  {
   "cell_type": "code",
   "execution_count": 48,
   "id": "61a1dffd",
   "metadata": {},
   "outputs": [],
   "source": [
    "theta, costs = train(X_train, y_train, alpha, Iter)"
   ]
  },
  {
   "cell_type": "code",
   "execution_count": 49,
   "id": "a5144ac1",
   "metadata": {},
   "outputs": [
    {
     "name": "stdout",
     "output_type": "stream",
     "text": [
      "开始时的损失:  0.3059606103209752\n",
      "训练后的损失:  0.1321003122507309\n"
     ]
    }
   ],
   "source": [
    "print(\"开始时的损失: \",costs[0])\n",
    "print(\"训练后的损失: \",costs[-1])"
   ]
  },
  {
   "cell_type": "code",
   "execution_count": 50,
   "id": "295ce215",
   "metadata": {},
   "outputs": [],
   "source": [
    "# plt.plot(range(Iter),costs)\n",
    "# plt.xlabel('Iter')\n",
    "# plt.ylabel('cost')\n",
    "# plt.title(\"GD\")\n",
    "# plt.show()"
   ]
  },
  {
   "cell_type": "code",
   "execution_count": 51,
   "id": "0c0dcebd",
   "metadata": {},
   "outputs": [],
   "source": [
    "\n",
    "y_predictions = predict(X_test, theta)"
   ]
  },
  {
   "cell_type": "code",
   "execution_count": 52,
   "id": "96880894",
   "metadata": {},
   "outputs": [],
   "source": [
    "# plt.scatter(x_train,y_train,label='train_data')\n",
    "# plt.scatter(x_test,y_test,label='test_data')\n",
    "# plt.plot(x_predictions,y_predictions,'r',label = 'Prediction')\n",
    "# plt.xlabel(input_param_name)\n",
    "# plt.ylabel(output_param_name)\n",
    "# plt.legend()\n",
    "# plt.show()"
   ]
  },
  {
   "cell_type": "code",
   "execution_count": 53,
   "id": "a9153daa",
   "metadata": {},
   "outputs": [],
   "source": [
    "predictions = predict(X_test, theta)"
   ]
  },
  {
   "cell_type": "code",
   "execution_count": 54,
   "id": "b5b27a3c",
   "metadata": {},
   "outputs": [
    {
     "data": {
      "text/plain": [
       "(     target\n",
       " 329    22.6\n",
       " 371    50.0\n",
       " 219    23.0\n",
       " 403     8.3\n",
       " 78     21.2,\n",
       " array([[27.16993687],\n",
       "        [23.52705894],\n",
       "        [29.76292482],\n",
       "        [12.50298998],\n",
       "        [22.49234809]]))"
      ]
     },
     "execution_count": 54,
     "metadata": {},
     "output_type": "execute_result"
    }
   ],
   "source": [
    "y_test[:5],predictions[:5]"
   ]
  },
  {
   "cell_type": "code",
   "execution_count": 55,
   "id": "47b90bb3",
   "metadata": {},
   "outputs": [
    {
     "data": {
      "image/png": "[encoded data removed]",
      "text/plain": [
       "<Figure size 640x480 with 1 Axes>"
      ]
     },
     "metadata": {},
     "output_type": "display_data"
    }
   ],
   "source": [
    "plt.plot(y_test.values,c=\"black\",label=\"y\")\n",
    "plt.plot(predictions,c=\"red\",label=\"predictions\")\n",
    "plt.legend()\n",
    "plt.show()"
   ]
  },
  {
   "cell_type": "code",
   "execution_count": null,
   "id": "5394ce96",
   "metadata": {},
   "outputs": [],
   "source": []
  }
 ],
 "metadata": {
  "kernelspec": {
   "display_name": "Python 3 (ipykernel)",
   "language": "python",
   "name": "python3"
  },
  "language_info": {
   "codemirror_mode": {
    "name": "ipython",
    "version": 3
   },
   "file_extension": ".py",
   "mimetype": "text/x-python",
   "name": "python",
   "nbconvert_exporter": "python",
   "pygments_lexer": "ipython3",
   "version": "3.9.16"
  }
 },
 "nbformat": 4,
 "nbformat_minor": 5
}
